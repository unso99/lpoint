{
 "cells": [
  {
   "cell_type": "markdown",
   "id": "42803f44",
   "metadata": {},
   "source": [
    "concat한 데이터를 불러와서 rfm에 맞는 분석 진행하기"
   ]
  },
  {
   "cell_type": "code",
   "execution_count": 1,
   "id": "1b486c73",
   "metadata": {},
   "outputs": [],
   "source": [
    "import pandas as pd\n",
    "import numpy as np\n",
    "import seaborn as sns\n",
    "import matplotlib.pyplot as plt\n",
    "import matplotlib.ticker as ticker\n",
    "%matplotlib inline"
   ]
  },
  {
   "cell_type": "code",
   "execution_count": 2,
   "id": "dda1213a",
   "metadata": {},
   "outputs": [],
   "source": [
    "import pickle\n",
    "with open(\"C:/Users/passion/jupyter/열정에 시동/result.pickle\",\"rb\") as fr:\n",
    "    result=pickle.load(fr)"
   ]
  },
  {
   "cell_type": "code",
   "execution_count": 3,
   "id": "61f19f2f",
   "metadata": {
    "scrolled": true
   },
   "outputs": [
    {
     "data": {
      "text/html": [
       "<div>\n",
       "<style scoped>\n",
       "    .dataframe tbody tr th:only-of-type {\n",
       "        vertical-align: middle;\n",
       "    }\n",
       "\n",
       "    .dataframe tbody tr th {\n",
       "        vertical-align: top;\n",
       "    }\n",
       "\n",
       "    .dataframe thead th {\n",
       "        text-align: right;\n",
       "    }\n",
       "</style>\n",
       "<table border=\"1\" class=\"dataframe\">\n",
       "  <thead>\n",
       "    <tr style=\"text-align: right;\">\n",
       "      <th></th>\n",
       "      <th>CUST</th>\n",
       "      <th>MA_FEM_DV</th>\n",
       "      <th>AGES</th>\n",
       "      <th>C_ZON_HLV</th>\n",
       "      <th>BUY_AM</th>\n",
       "      <th>COP_C</th>\n",
       "      <th>CHNL_DV</th>\n",
       "      <th>DE_DT</th>\n",
       "      <th>PD_C</th>\n",
       "      <th>BUY_CT</th>\n",
       "      <th>S_ZON_HLV</th>\n",
       "      <th>DE_DT</th>\n",
       "      <th>MONTH</th>\n",
       "      <th>DATE</th>\n",
       "      <th>DAY</th>\n",
       "      <th>DE_HR</th>\n",
       "      <th>CLAC_HLV_NM</th>\n",
       "      <th>CLAC_MCLS_NM</th>\n",
       "      <th>PD_NM</th>\n",
       "      <th>LPAY_USE</th>\n",
       "    </tr>\n",
       "  </thead>\n",
       "  <tbody>\n",
       "    <tr>\n",
       "      <th>0</th>\n",
       "      <td>M430112881</td>\n",
       "      <td>0</td>\n",
       "      <td>50</td>\n",
       "      <td>17</td>\n",
       "      <td>15000</td>\n",
       "      <td>110</td>\n",
       "      <td>1</td>\n",
       "      <td>2021-01-01</td>\n",
       "      <td>290</td>\n",
       "      <td>1</td>\n",
       "      <td>10</td>\n",
       "      <td>2021-01-01</td>\n",
       "      <td>1</td>\n",
       "      <td>1</td>\n",
       "      <td>4</td>\n",
       "      <td>10</td>\n",
       "      <td>남성의류</td>\n",
       "      <td>남성의류상의</td>\n",
       "      <td>남성티셔츠</td>\n",
       "      <td>0</td>\n",
       "    </tr>\n",
       "    <tr>\n",
       "      <th>1</th>\n",
       "      <td>M646853852</td>\n",
       "      <td>0</td>\n",
       "      <td>40</td>\n",
       "      <td>13</td>\n",
       "      <td>79700</td>\n",
       "      <td>110</td>\n",
       "      <td>1</td>\n",
       "      <td>2021-01-01</td>\n",
       "      <td>1369</td>\n",
       "      <td>1</td>\n",
       "      <td>13</td>\n",
       "      <td>2021-01-01</td>\n",
       "      <td>1</td>\n",
       "      <td>1</td>\n",
       "      <td>4</td>\n",
       "      <td>10</td>\n",
       "      <td>주방잡화</td>\n",
       "      <td>주방일회용품</td>\n",
       "      <td>기타주방일회용품</td>\n",
       "      <td>0</td>\n",
       "    </tr>\n",
       "    <tr>\n",
       "      <th>2</th>\n",
       "      <td>M430112881</td>\n",
       "      <td>0</td>\n",
       "      <td>50</td>\n",
       "      <td>17</td>\n",
       "      <td>19000</td>\n",
       "      <td>110</td>\n",
       "      <td>1</td>\n",
       "      <td>2021-01-01</td>\n",
       "      <td>290</td>\n",
       "      <td>1</td>\n",
       "      <td>10</td>\n",
       "      <td>2021-01-01</td>\n",
       "      <td>1</td>\n",
       "      <td>1</td>\n",
       "      <td>4</td>\n",
       "      <td>10</td>\n",
       "      <td>남성의류</td>\n",
       "      <td>남성의류상의</td>\n",
       "      <td>남성티셔츠</td>\n",
       "      <td>0</td>\n",
       "    </tr>\n",
       "    <tr>\n",
       "      <th>3</th>\n",
       "      <td>M430112881</td>\n",
       "      <td>0</td>\n",
       "      <td>50</td>\n",
       "      <td>17</td>\n",
       "      <td>19000</td>\n",
       "      <td>110</td>\n",
       "      <td>1</td>\n",
       "      <td>2021-01-01</td>\n",
       "      <td>290</td>\n",
       "      <td>1</td>\n",
       "      <td>10</td>\n",
       "      <td>2021-01-01</td>\n",
       "      <td>1</td>\n",
       "      <td>1</td>\n",
       "      <td>4</td>\n",
       "      <td>10</td>\n",
       "      <td>남성의류</td>\n",
       "      <td>남성의류상의</td>\n",
       "      <td>남성티셔츠</td>\n",
       "      <td>0</td>\n",
       "    </tr>\n",
       "    <tr>\n",
       "      <th>4</th>\n",
       "      <td>M430112881</td>\n",
       "      <td>0</td>\n",
       "      <td>50</td>\n",
       "      <td>17</td>\n",
       "      <td>19000</td>\n",
       "      <td>110</td>\n",
       "      <td>1</td>\n",
       "      <td>2021-01-01</td>\n",
       "      <td>290</td>\n",
       "      <td>1</td>\n",
       "      <td>10</td>\n",
       "      <td>2021-01-01</td>\n",
       "      <td>1</td>\n",
       "      <td>1</td>\n",
       "      <td>4</td>\n",
       "      <td>10</td>\n",
       "      <td>남성의류</td>\n",
       "      <td>남성의류상의</td>\n",
       "      <td>남성티셔츠</td>\n",
       "      <td>0</td>\n",
       "    </tr>\n",
       "    <tr>\n",
       "      <th>...</th>\n",
       "      <td>...</td>\n",
       "      <td>...</td>\n",
       "      <td>...</td>\n",
       "      <td>...</td>\n",
       "      <td>...</td>\n",
       "      <td>...</td>\n",
       "      <td>...</td>\n",
       "      <td>...</td>\n",
       "      <td>...</td>\n",
       "      <td>...</td>\n",
       "      <td>...</td>\n",
       "      <td>...</td>\n",
       "      <td>...</td>\n",
       "      <td>...</td>\n",
       "      <td>...</td>\n",
       "      <td>...</td>\n",
       "      <td>...</td>\n",
       "      <td>...</td>\n",
       "      <td>...</td>\n",
       "      <td>...</td>\n",
       "    </tr>\n",
       "    <tr>\n",
       "      <th>353179</th>\n",
       "      <td>M470112503</td>\n",
       "      <td>0</td>\n",
       "      <td>50</td>\n",
       "      <td>16</td>\n",
       "      <td>51800</td>\n",
       "      <td>160</td>\n",
       "      <td>2</td>\n",
       "      <td>2021-01-25</td>\n",
       "      <td>6000</td>\n",
       "      <td>1</td>\n",
       "      <td>0</td>\n",
       "      <td>2021-01-25</td>\n",
       "      <td>1</td>\n",
       "      <td>25</td>\n",
       "      <td>0</td>\n",
       "      <td>11</td>\n",
       "      <td>NULL</td>\n",
       "      <td>NULL</td>\n",
       "      <td>NULL</td>\n",
       "      <td>1</td>\n",
       "    </tr>\n",
       "    <tr>\n",
       "      <th>353180</th>\n",
       "      <td>M470112503</td>\n",
       "      <td>0</td>\n",
       "      <td>50</td>\n",
       "      <td>16</td>\n",
       "      <td>6440</td>\n",
       "      <td>160</td>\n",
       "      <td>2</td>\n",
       "      <td>2021-01-04</td>\n",
       "      <td>6000</td>\n",
       "      <td>1</td>\n",
       "      <td>0</td>\n",
       "      <td>2021-01-04</td>\n",
       "      <td>1</td>\n",
       "      <td>4</td>\n",
       "      <td>0</td>\n",
       "      <td>21</td>\n",
       "      <td>NULL</td>\n",
       "      <td>NULL</td>\n",
       "      <td>NULL</td>\n",
       "      <td>1</td>\n",
       "    </tr>\n",
       "    <tr>\n",
       "      <th>353181</th>\n",
       "      <td>M748878049</td>\n",
       "      <td>0</td>\n",
       "      <td>30</td>\n",
       "      <td>10</td>\n",
       "      <td>17600</td>\n",
       "      <td>120</td>\n",
       "      <td>1</td>\n",
       "      <td>2021-01-19</td>\n",
       "      <td>6000</td>\n",
       "      <td>1</td>\n",
       "      <td>0</td>\n",
       "      <td>2021-01-19</td>\n",
       "      <td>1</td>\n",
       "      <td>19</td>\n",
       "      <td>1</td>\n",
       "      <td>20</td>\n",
       "      <td>NULL</td>\n",
       "      <td>NULL</td>\n",
       "      <td>NULL</td>\n",
       "      <td>1</td>\n",
       "    </tr>\n",
       "    <tr>\n",
       "      <th>353182</th>\n",
       "      <td>M748878049</td>\n",
       "      <td>0</td>\n",
       "      <td>30</td>\n",
       "      <td>10</td>\n",
       "      <td>12400</td>\n",
       "      <td>120</td>\n",
       "      <td>1</td>\n",
       "      <td>2021-01-19</td>\n",
       "      <td>6000</td>\n",
       "      <td>1</td>\n",
       "      <td>0</td>\n",
       "      <td>2021-01-19</td>\n",
       "      <td>1</td>\n",
       "      <td>19</td>\n",
       "      <td>1</td>\n",
       "      <td>18</td>\n",
       "      <td>NULL</td>\n",
       "      <td>NULL</td>\n",
       "      <td>NULL</td>\n",
       "      <td>1</td>\n",
       "    </tr>\n",
       "    <tr>\n",
       "      <th>353183</th>\n",
       "      <td>M748878049</td>\n",
       "      <td>0</td>\n",
       "      <td>30</td>\n",
       "      <td>10</td>\n",
       "      <td>5000</td>\n",
       "      <td>310</td>\n",
       "      <td>2</td>\n",
       "      <td>2021-01-19</td>\n",
       "      <td>6000</td>\n",
       "      <td>1</td>\n",
       "      <td>0</td>\n",
       "      <td>2021-01-19</td>\n",
       "      <td>1</td>\n",
       "      <td>19</td>\n",
       "      <td>1</td>\n",
       "      <td>15</td>\n",
       "      <td>NULL</td>\n",
       "      <td>NULL</td>\n",
       "      <td>NULL</td>\n",
       "      <td>1</td>\n",
       "    </tr>\n",
       "  </tbody>\n",
       "</table>\n",
       "<p>4983176 rows × 20 columns</p>\n",
       "</div>"
      ],
      "text/plain": [
       "              CUST  MA_FEM_DV  AGES  C_ZON_HLV  BUY_AM  COP_C  CHNL_DV  \\\n",
       "0       M430112881          0    50         17   15000    110        1   \n",
       "1       M646853852          0    40         13   79700    110        1   \n",
       "2       M430112881          0    50         17   19000    110        1   \n",
       "3       M430112881          0    50         17   19000    110        1   \n",
       "4       M430112881          0    50         17   19000    110        1   \n",
       "...            ...        ...   ...        ...     ...    ...      ...   \n",
       "353179  M470112503          0    50         16   51800    160        2   \n",
       "353180  M470112503          0    50         16    6440    160        2   \n",
       "353181  M748878049          0    30         10   17600    120        1   \n",
       "353182  M748878049          0    30         10   12400    120        1   \n",
       "353183  M748878049          0    30         10    5000    310        2   \n",
       "\n",
       "             DE_DT  PD_C  BUY_CT  S_ZON_HLV       DE_DT  MONTH  DATE  DAY  \\\n",
       "0       2021-01-01   290       1         10  2021-01-01      1     1    4   \n",
       "1       2021-01-01  1369       1         13  2021-01-01      1     1    4   \n",
       "2       2021-01-01   290       1         10  2021-01-01      1     1    4   \n",
       "3       2021-01-01   290       1         10  2021-01-01      1     1    4   \n",
       "4       2021-01-01   290       1         10  2021-01-01      1     1    4   \n",
       "...            ...   ...     ...        ...         ...    ...   ...  ...   \n",
       "353179  2021-01-25  6000       1          0  2021-01-25      1    25    0   \n",
       "353180  2021-01-04  6000       1          0  2021-01-04      1     4    0   \n",
       "353181  2021-01-19  6000       1          0  2021-01-19      1    19    1   \n",
       "353182  2021-01-19  6000       1          0  2021-01-19      1    19    1   \n",
       "353183  2021-01-19  6000       1          0  2021-01-19      1    19    1   \n",
       "\n",
       "        DE_HR CLAC_HLV_NM CLAC_MCLS_NM     PD_NM  LPAY_USE  \n",
       "0          10        남성의류       남성의류상의     남성티셔츠         0  \n",
       "1          10        주방잡화       주방일회용품  기타주방일회용품         0  \n",
       "2          10        남성의류       남성의류상의     남성티셔츠         0  \n",
       "3          10        남성의류       남성의류상의     남성티셔츠         0  \n",
       "4          10        남성의류       남성의류상의     남성티셔츠         0  \n",
       "...       ...         ...          ...       ...       ...  \n",
       "353179     11        NULL         NULL      NULL         1  \n",
       "353180     21        NULL         NULL      NULL         1  \n",
       "353181     20        NULL         NULL      NULL         1  \n",
       "353182     18        NULL         NULL      NULL         1  \n",
       "353183     15        NULL         NULL      NULL         1  \n",
       "\n",
       "[4983176 rows x 20 columns]"
      ]
     },
     "execution_count": 3,
     "metadata": {},
     "output_type": "execute_result"
    }
   ],
   "source": [
    "result"
   ]
  },
  {
   "cell_type": "code",
   "execution_count": 4,
   "id": "654d3315",
   "metadata": {
    "scrolled": true
   },
   "outputs": [
    {
     "name": "stdout",
     "output_type": "stream",
     "text": [
      "<class 'pandas.core.frame.DataFrame'>\n",
      "Int64Index: 4983176 entries, 0 to 353183\n",
      "Data columns (total 20 columns):\n",
      " #   Column        Dtype \n",
      "---  ------        ----- \n",
      " 0   CUST          object\n",
      " 1   MA_FEM_DV     int32 \n",
      " 2   AGES          int64 \n",
      " 3   C_ZON_HLV     int32 \n",
      " 4   BUY_AM        int64 \n",
      " 5   COP_C         int32 \n",
      " 6   CHNL_DV       int64 \n",
      " 7   DE_DT         object\n",
      " 8   PD_C          int32 \n",
      " 9   BUY_CT        int64 \n",
      " 10  S_ZON_HLV     int32 \n",
      " 11  DE_DT         object\n",
      " 12  MONTH         int64 \n",
      " 13  DATE          int64 \n",
      " 14  DAY           int64 \n",
      " 15  DE_HR         int64 \n",
      " 16  CLAC_HLV_NM   object\n",
      " 17  CLAC_MCLS_NM  object\n",
      " 18  PD_NM         object\n",
      " 19  LPAY_USE      int64 \n",
      "dtypes: int32(5), int64(9), object(6)\n",
      "memory usage: 703.3+ MB\n"
     ]
    }
   ],
   "source": [
    "result.info()"
   ]
  },
  {
   "cell_type": "code",
   "execution_count": 5,
   "id": "8533a7b4",
   "metadata": {
    "scrolled": true
   },
   "outputs": [
    {
     "data": {
      "text/plain": [
       "Index(['CUST', 'MA_FEM_DV', 'AGES', 'C_ZON_HLV', 'BUY_AM', 'COP_C', 'CHNL_DV',\n",
       "       'DE_DT', 'PD_C', 'BUY_CT', 'S_ZON_HLV', 'DE_DT', 'MONTH', 'DATE', 'DAY',\n",
       "       'DE_HR', 'CLAC_HLV_NM', 'CLAC_MCLS_NM', 'PD_NM', 'LPAY_USE'],\n",
       "      dtype='object')"
      ]
     },
     "execution_count": 5,
     "metadata": {},
     "output_type": "execute_result"
    }
   ],
   "source": [
    "result.columns"
   ]
  },
  {
   "cell_type": "markdown",
   "id": "d6b4dfe9",
   "metadata": {},
   "source": [
    "# 본격적인 rfm 시작하기"
   ]
  },
  {
   "cell_type": "markdown",
   "id": "814b6345",
   "metadata": {},
   "source": [
    "일단 기본적으로 cust를 기준으로 groupby를 하겠다<br>\n",
    "여기서 month, buy_ct, buy_am으로 묶겠다"
   ]
  },
  {
   "cell_type": "code",
   "execution_count": 6,
   "id": "11ab36fa",
   "metadata": {},
   "outputs": [
    {
     "data": {
      "text/html": [
       "<div>\n",
       "<style scoped>\n",
       "    .dataframe tbody tr th:only-of-type {\n",
       "        vertical-align: middle;\n",
       "    }\n",
       "\n",
       "    .dataframe tbody tr th {\n",
       "        vertical-align: top;\n",
       "    }\n",
       "\n",
       "    .dataframe thead th {\n",
       "        text-align: right;\n",
       "    }\n",
       "</style>\n",
       "<table border=\"1\" class=\"dataframe\">\n",
       "  <thead>\n",
       "    <tr style=\"text-align: right;\">\n",
       "      <th></th>\n",
       "      <th>CUST</th>\n",
       "      <th>Recency_R</th>\n",
       "      <th>Frequency_F</th>\n",
       "      <th>Monetary_M</th>\n",
       "      <th>LPAY_USE</th>\n",
       "    </tr>\n",
       "  </thead>\n",
       "  <tbody>\n",
       "    <tr>\n",
       "      <th>0</th>\n",
       "      <td>M000034966</td>\n",
       "      <td>12</td>\n",
       "      <td>64</td>\n",
       "      <td>658020</td>\n",
       "      <td>0.000000</td>\n",
       "    </tr>\n",
       "    <tr>\n",
       "      <th>1</th>\n",
       "      <td>M000059535</td>\n",
       "      <td>3</td>\n",
       "      <td>1</td>\n",
       "      <td>46000</td>\n",
       "      <td>0.000000</td>\n",
       "    </tr>\n",
       "    <tr>\n",
       "      <th>2</th>\n",
       "      <td>M000136117</td>\n",
       "      <td>12</td>\n",
       "      <td>133</td>\n",
       "      <td>28748531</td>\n",
       "      <td>0.031250</td>\n",
       "    </tr>\n",
       "    <tr>\n",
       "      <th>3</th>\n",
       "      <td>M000201112</td>\n",
       "      <td>11</td>\n",
       "      <td>30</td>\n",
       "      <td>53120</td>\n",
       "      <td>0.000000</td>\n",
       "    </tr>\n",
       "    <tr>\n",
       "      <th>4</th>\n",
       "      <td>M000225114</td>\n",
       "      <td>12</td>\n",
       "      <td>192</td>\n",
       "      <td>2253900</td>\n",
       "      <td>0.000000</td>\n",
       "    </tr>\n",
       "    <tr>\n",
       "      <th>...</th>\n",
       "      <td>...</td>\n",
       "      <td>...</td>\n",
       "      <td>...</td>\n",
       "      <td>...</td>\n",
       "      <td>...</td>\n",
       "    </tr>\n",
       "    <tr>\n",
       "      <th>29869</th>\n",
       "      <td>M999708287</td>\n",
       "      <td>9</td>\n",
       "      <td>2</td>\n",
       "      <td>60000</td>\n",
       "      <td>0.000000</td>\n",
       "    </tr>\n",
       "    <tr>\n",
       "      <th>29870</th>\n",
       "      <td>M999770689</td>\n",
       "      <td>12</td>\n",
       "      <td>479</td>\n",
       "      <td>2087570</td>\n",
       "      <td>0.193154</td>\n",
       "    </tr>\n",
       "    <tr>\n",
       "      <th>29871</th>\n",
       "      <td>M999849895</td>\n",
       "      <td>12</td>\n",
       "      <td>120</td>\n",
       "      <td>1118792</td>\n",
       "      <td>0.000000</td>\n",
       "    </tr>\n",
       "    <tr>\n",
       "      <th>29872</th>\n",
       "      <td>M999926092</td>\n",
       "      <td>12</td>\n",
       "      <td>7</td>\n",
       "      <td>129500</td>\n",
       "      <td>0.000000</td>\n",
       "    </tr>\n",
       "    <tr>\n",
       "      <th>29873</th>\n",
       "      <td>M999962961</td>\n",
       "      <td>12</td>\n",
       "      <td>455</td>\n",
       "      <td>15655434</td>\n",
       "      <td>0.043243</td>\n",
       "    </tr>\n",
       "  </tbody>\n",
       "</table>\n",
       "<p>29874 rows × 5 columns</p>\n",
       "</div>"
      ],
      "text/plain": [
       "             CUST  Recency_R  Frequency_F  Monetary_M  LPAY_USE\n",
       "0      M000034966         12           64      658020  0.000000\n",
       "1      M000059535          3            1       46000  0.000000\n",
       "2      M000136117         12          133    28748531  0.031250\n",
       "3      M000201112         11           30       53120  0.000000\n",
       "4      M000225114         12          192     2253900  0.000000\n",
       "...           ...        ...          ...         ...       ...\n",
       "29869  M999708287          9            2       60000  0.000000\n",
       "29870  M999770689         12          479     2087570  0.193154\n",
       "29871  M999849895         12          120     1118792  0.000000\n",
       "29872  M999926092         12            7      129500  0.000000\n",
       "29873  M999962961         12          455    15655434  0.043243\n",
       "\n",
       "[29874 rows x 5 columns]"
      ]
     },
     "execution_count": 6,
     "metadata": {},
     "output_type": "execute_result"
    }
   ],
   "source": [
    "rfm = result.groupby(\"CUST\").agg(\n",
    "    Recency_R=pd.NamedAgg(column=\"MONTH\", aggfunc=\"max\"),\n",
    "    Frequency_F=pd.NamedAgg(column=\"BUY_CT\", aggfunc=\"sum\"),\n",
    "    Monetary_M =pd.NamedAgg(column=\"BUY_AM\", aggfunc=\"sum\" ),\n",
    "    LPAY_USE =pd.NamedAgg(column=\"LPAY_USE\", aggfunc=\"mean\" )\n",
    ")\n",
    "rfm = rfm.reset_index()\n",
    "rfm"
   ]
  },
  {
   "cell_type": "markdown",
   "id": "cdcc124d",
   "metadata": {},
   "source": [
    "그럼 각각 R F M의 분포를 찍어보고 기준을 정하자"
   ]
  },
  {
   "cell_type": "markdown",
   "id": "a9be400a",
   "metadata": {},
   "source": [
    "## Recency_R 대한 기준 찾기"
   ]
  },
  {
   "cell_type": "markdown",
   "id": "9949273e",
   "metadata": {},
   "source": [
    "value_count로 봤을때 12월이 가장 많이 있기때문에 12월로 기준을 두었다"
   ]
  },
  {
   "cell_type": "code",
   "execution_count": 7,
   "id": "f70f65cd",
   "metadata": {},
   "outputs": [
    {
     "name": "stdout",
     "output_type": "stream",
     "text": [
      "Recency_R\n",
      "12    20951\n",
      "11     3047\n",
      "10     1652\n",
      "9       962\n",
      "8       831\n",
      "7       550\n",
      "6       496\n",
      "5       416\n",
      "4       313\n",
      "3       264\n",
      "2       198\n",
      "1       194\n",
      "Name: Recency_R, dtype: int64 \n",
      "\n"
     ]
    }
   ],
   "source": [
    "print('Recency_R')\n",
    "print(rfm['Recency_R'].value_counts(),'\\n')"
   ]
  },
  {
   "cell_type": "markdown",
   "id": "3c9600c6",
   "metadata": {},
   "source": [
    "## Frequency_F에 대한 기준 찾기"
   ]
  },
  {
   "cell_type": "markdown",
   "id": "d903ae13",
   "metadata": {},
   "source": [
    "그래프모양이 기하급수적으로 떠어지고 있음으로 평균을 사용하는것이 아니라 3사분위의 값을 기준을 잡았다.<br>\n",
    "그러니 기준이 되는 값을 279로 잡는다<br>\n",
    "lpay_use와 기준이 똑같다."
   ]
  },
  {
   "cell_type": "code",
   "execution_count": 8,
   "id": "c9279b41",
   "metadata": {},
   "outputs": [
    {
     "data": {
      "image/png": "[encoded data removed]",
      "text/plain": [
       "<Figure size 432x288 with 1 Axes>"
      ]
     },
     "metadata": {
      "needs_background": "light"
     },
     "output_type": "display_data"
    },
    {
     "data": {
      "image/png": "[encoded data removed]",
      "text/plain": [
       "<Figure size 432x288 with 1 Axes>"
      ]
     },
     "metadata": {
      "needs_background": "light"
     },
     "output_type": "display_data"
    }
   ],
   "source": [
    "sns.histplot(rfm['Frequency_F'])\n",
    "plt.show()\n",
    "sns.histplot(rfm['Frequency_F'])\n",
    "plt.ylim([0, 2000])\n",
    "plt.xlim([0, 2500])\n",
    "plt.show()"
   ]
  },
  {
   "cell_type": "code",
   "execution_count": 9,
   "id": "6ecc8013",
   "metadata": {
    "scrolled": false
   },
   "outputs": [
    {
     "data": {
      "text/plain": [
       "count    29874.000000\n",
       "mean       212.328279\n",
       "std        320.362158\n",
       "min          1.000000\n",
       "25%         23.000000\n",
       "50%        106.000000\n",
       "75%        279.000000\n",
       "max      19426.000000\n",
       "Name: Frequency_F, dtype: float64"
      ]
     },
     "execution_count": 9,
     "metadata": {},
     "output_type": "execute_result"
    }
   ],
   "source": [
    "rfm['Frequency_F'].describe()"
   ]
  },
  {
   "cell_type": "markdown",
   "id": "64f45b32",
   "metadata": {},
   "source": [
    "## Monetary_M 대한 기준 찾기"
   ]
  },
  {
   "cell_type": "markdown",
   "id": "52d04251",
   "metadata": {},
   "source": [
    "10% 절사평균 사용<br>\n",
    "상위 5%와 하위5%를 제거한 뒤 구매 금액을 나누는 기준을 정했다<br>\n",
    "평균과 3사분위수의 사이인 300만원을 기준으로 정함"
   ]
  },
  {
   "cell_type": "code",
   "execution_count": 10,
   "id": "99b5f1b1",
   "metadata": {},
   "outputs": [
    {
     "data": {
      "text/plain": [
       "count    2.987400e+04\n",
       "mean     4.290784e+06\n",
       "std      1.361154e+07\n",
       "min      1.000000e+01\n",
       "25%      3.581112e+05\n",
       "50%      1.437050e+06\n",
       "75%      3.803288e+06\n",
       "max      7.119147e+08\n",
       "Name: Monetary_M, dtype: float64"
      ]
     },
     "execution_count": 10,
     "metadata": {},
     "output_type": "execute_result"
    }
   ],
   "source": [
    "rfm['Monetary_M'].describe()"
   ]
  },
  {
   "cell_type": "code",
   "execution_count": 11,
   "id": "68103b9e",
   "metadata": {
    "scrolled": false
   },
   "outputs": [
    {
     "data": {
      "image/png": "[encoded data removed]",
      "text/plain": [
       "<Figure size 432x288 with 1 Axes>"
      ]
     },
     "metadata": {
      "needs_background": "light"
     },
     "output_type": "display_data"
    },
    {
     "data": {
      "image/png": "[encoded data removed]",
      "text/plain": [
       "<Figure size 432x288 with 1 Axes>"
      ]
     },
     "metadata": {
      "needs_background": "light"
     },
     "output_type": "display_data"
    }
   ],
   "source": [
    "sns.histplot(rfm['Monetary_M'])\n",
    "plt.show()\n",
    "sns.histplot(rfm['Monetary_M'])\n",
    "plt.ylim([0, 2000]) \n",
    "plt.xlim([0, 100000000])\n",
    "plt.show()"
   ]
  },
  {
   "cell_type": "code",
   "execution_count": 12,
   "id": "48dfc873",
   "metadata": {},
   "outputs": [
    {
     "name": "stdout",
     "output_type": "stream",
     "text": [
      "24600\n",
      "15372370\n"
     ]
    }
   ],
   "source": [
    "print(rfm['Monetary_M'].quantile(q=0.05, interpolation='nearest'))\n",
    "print(rfm['Monetary_M'].quantile(q=0.95, interpolation='nearest'))"
   ]
  },
  {
   "cell_type": "code",
   "execution_count": 13,
   "id": "e87da446",
   "metadata": {
    "scrolled": true
   },
   "outputs": [
    {
     "data": {
      "text/plain": [
       "count    2.688300e+04\n",
       "mean     2.540388e+06\n",
       "std      2.999871e+06\n",
       "min      2.470000e+04\n",
       "25%      4.339560e+05\n",
       "50%      1.437050e+06\n",
       "75%      3.426504e+06\n",
       "max      1.536988e+07\n",
       "Name: Monetary_M, dtype: float64"
      ]
     },
     "execution_count": 13,
     "metadata": {},
     "output_type": "execute_result"
    }
   ],
   "source": [
    "data = rfm[(rfm['Monetary_M']>24600) & (rfm['Monetary_M']<15372370)]\n",
    "data['Monetary_M'].describe()"
   ]
  },
  {
   "cell_type": "code",
   "execution_count": 14,
   "id": "088e594f",
   "metadata": {},
   "outputs": [
    {
     "data": {
      "text/html": [
       "<div>\n",
       "<style scoped>\n",
       "    .dataframe tbody tr th:only-of-type {\n",
       "        vertical-align: middle;\n",
       "    }\n",
       "\n",
       "    .dataframe tbody tr th {\n",
       "        vertical-align: top;\n",
       "    }\n",
       "\n",
       "    .dataframe thead th {\n",
       "        text-align: right;\n",
       "    }\n",
       "</style>\n",
       "<table border=\"1\" class=\"dataframe\">\n",
       "  <thead>\n",
       "    <tr style=\"text-align: right;\">\n",
       "      <th></th>\n",
       "      <th>CUST</th>\n",
       "      <th>Recency_R</th>\n",
       "      <th>Frequency_F</th>\n",
       "      <th>Monetary_M</th>\n",
       "      <th>LPAY_USE</th>\n",
       "    </tr>\n",
       "  </thead>\n",
       "  <tbody>\n",
       "    <tr>\n",
       "      <th>0</th>\n",
       "      <td>M000034966</td>\n",
       "      <td>12</td>\n",
       "      <td>64</td>\n",
       "      <td>658020</td>\n",
       "      <td>0.000000</td>\n",
       "    </tr>\n",
       "    <tr>\n",
       "      <th>1</th>\n",
       "      <td>M000059535</td>\n",
       "      <td>3</td>\n",
       "      <td>1</td>\n",
       "      <td>46000</td>\n",
       "      <td>0.000000</td>\n",
       "    </tr>\n",
       "    <tr>\n",
       "      <th>3</th>\n",
       "      <td>M000201112</td>\n",
       "      <td>11</td>\n",
       "      <td>30</td>\n",
       "      <td>53120</td>\n",
       "      <td>0.000000</td>\n",
       "    </tr>\n",
       "    <tr>\n",
       "      <th>4</th>\n",
       "      <td>M000225114</td>\n",
       "      <td>12</td>\n",
       "      <td>192</td>\n",
       "      <td>2253900</td>\n",
       "      <td>0.000000</td>\n",
       "    </tr>\n",
       "    <tr>\n",
       "      <th>5</th>\n",
       "      <td>M000261625</td>\n",
       "      <td>12</td>\n",
       "      <td>72</td>\n",
       "      <td>6075950</td>\n",
       "      <td>0.000000</td>\n",
       "    </tr>\n",
       "    <tr>\n",
       "      <th>...</th>\n",
       "      <td>...</td>\n",
       "      <td>...</td>\n",
       "      <td>...</td>\n",
       "      <td>...</td>\n",
       "      <td>...</td>\n",
       "    </tr>\n",
       "    <tr>\n",
       "      <th>29868</th>\n",
       "      <td>M999673157</td>\n",
       "      <td>12</td>\n",
       "      <td>28</td>\n",
       "      <td>2851370</td>\n",
       "      <td>0.000000</td>\n",
       "    </tr>\n",
       "    <tr>\n",
       "      <th>29869</th>\n",
       "      <td>M999708287</td>\n",
       "      <td>9</td>\n",
       "      <td>2</td>\n",
       "      <td>60000</td>\n",
       "      <td>0.000000</td>\n",
       "    </tr>\n",
       "    <tr>\n",
       "      <th>29870</th>\n",
       "      <td>M999770689</td>\n",
       "      <td>12</td>\n",
       "      <td>479</td>\n",
       "      <td>2087570</td>\n",
       "      <td>0.193154</td>\n",
       "    </tr>\n",
       "    <tr>\n",
       "      <th>29871</th>\n",
       "      <td>M999849895</td>\n",
       "      <td>12</td>\n",
       "      <td>120</td>\n",
       "      <td>1118792</td>\n",
       "      <td>0.000000</td>\n",
       "    </tr>\n",
       "    <tr>\n",
       "      <th>29872</th>\n",
       "      <td>M999926092</td>\n",
       "      <td>12</td>\n",
       "      <td>7</td>\n",
       "      <td>129500</td>\n",
       "      <td>0.000000</td>\n",
       "    </tr>\n",
       "  </tbody>\n",
       "</table>\n",
       "<p>26883 rows × 5 columns</p>\n",
       "</div>"
      ],
      "text/plain": [
       "             CUST  Recency_R  Frequency_F  Monetary_M  LPAY_USE\n",
       "0      M000034966         12           64      658020  0.000000\n",
       "1      M000059535          3            1       46000  0.000000\n",
       "3      M000201112         11           30       53120  0.000000\n",
       "4      M000225114         12          192     2253900  0.000000\n",
       "5      M000261625         12           72     6075950  0.000000\n",
       "...           ...        ...          ...         ...       ...\n",
       "29868  M999673157         12           28     2851370  0.000000\n",
       "29869  M999708287          9            2       60000  0.000000\n",
       "29870  M999770689         12          479     2087570  0.193154\n",
       "29871  M999849895         12          120     1118792  0.000000\n",
       "29872  M999926092         12            7      129500  0.000000\n",
       "\n",
       "[26883 rows x 5 columns]"
      ]
     },
     "execution_count": 14,
     "metadata": {},
     "output_type": "execute_result"
    }
   ],
   "source": [
    "data"
   ]
  },
  {
   "cell_type": "code",
   "execution_count": 15,
   "id": "13504241",
   "metadata": {},
   "outputs": [
    {
     "data": {
      "text/html": [
       "<div>\n",
       "<style scoped>\n",
       "    .dataframe tbody tr th:only-of-type {\n",
       "        vertical-align: middle;\n",
       "    }\n",
       "\n",
       "    .dataframe tbody tr th {\n",
       "        vertical-align: top;\n",
       "    }\n",
       "\n",
       "    .dataframe thead th {\n",
       "        text-align: right;\n",
       "    }\n",
       "</style>\n",
       "<table border=\"1\" class=\"dataframe\">\n",
       "  <thead>\n",
       "    <tr style=\"text-align: right;\">\n",
       "      <th></th>\n",
       "      <th>CUST</th>\n",
       "      <th>Recency_R</th>\n",
       "      <th>Frequency_F</th>\n",
       "      <th>Monetary_M</th>\n",
       "      <th>LPAY_USE</th>\n",
       "    </tr>\n",
       "  </thead>\n",
       "  <tbody>\n",
       "    <tr>\n",
       "      <th>2</th>\n",
       "      <td>M000136117</td>\n",
       "      <td>12</td>\n",
       "      <td>133</td>\n",
       "      <td>28748531</td>\n",
       "      <td>0.031250</td>\n",
       "    </tr>\n",
       "    <tr>\n",
       "      <th>5</th>\n",
       "      <td>M000261625</td>\n",
       "      <td>12</td>\n",
       "      <td>72</td>\n",
       "      <td>6075950</td>\n",
       "      <td>0.000000</td>\n",
       "    </tr>\n",
       "    <tr>\n",
       "      <th>6</th>\n",
       "      <td>M000350564</td>\n",
       "      <td>12</td>\n",
       "      <td>34</td>\n",
       "      <td>9630400</td>\n",
       "      <td>0.000000</td>\n",
       "    </tr>\n",
       "    <tr>\n",
       "      <th>7</th>\n",
       "      <td>M000419293</td>\n",
       "      <td>12</td>\n",
       "      <td>131</td>\n",
       "      <td>5653101</td>\n",
       "      <td>0.344262</td>\n",
       "    </tr>\n",
       "    <tr>\n",
       "      <th>8</th>\n",
       "      <td>M000494848</td>\n",
       "      <td>12</td>\n",
       "      <td>654</td>\n",
       "      <td>30430065</td>\n",
       "      <td>0.186508</td>\n",
       "    </tr>\n",
       "    <tr>\n",
       "      <th>...</th>\n",
       "      <td>...</td>\n",
       "      <td>...</td>\n",
       "      <td>...</td>\n",
       "      <td>...</td>\n",
       "      <td>...</td>\n",
       "    </tr>\n",
       "    <tr>\n",
       "      <th>29857</th>\n",
       "      <td>M999227380</td>\n",
       "      <td>12</td>\n",
       "      <td>71</td>\n",
       "      <td>4796170</td>\n",
       "      <td>0.028169</td>\n",
       "    </tr>\n",
       "    <tr>\n",
       "      <th>29860</th>\n",
       "      <td>M999340261</td>\n",
       "      <td>3</td>\n",
       "      <td>7</td>\n",
       "      <td>3468000</td>\n",
       "      <td>0.000000</td>\n",
       "    </tr>\n",
       "    <tr>\n",
       "      <th>29866</th>\n",
       "      <td>M999515910</td>\n",
       "      <td>12</td>\n",
       "      <td>782</td>\n",
       "      <td>7450295</td>\n",
       "      <td>0.000000</td>\n",
       "    </tr>\n",
       "    <tr>\n",
       "      <th>29867</th>\n",
       "      <td>M999599111</td>\n",
       "      <td>11</td>\n",
       "      <td>122</td>\n",
       "      <td>5661659</td>\n",
       "      <td>0.681416</td>\n",
       "    </tr>\n",
       "    <tr>\n",
       "      <th>29873</th>\n",
       "      <td>M999962961</td>\n",
       "      <td>12</td>\n",
       "      <td>455</td>\n",
       "      <td>15655434</td>\n",
       "      <td>0.043243</td>\n",
       "    </tr>\n",
       "  </tbody>\n",
       "</table>\n",
       "<p>9167 rows × 5 columns</p>\n",
       "</div>"
      ],
      "text/plain": [
       "             CUST  Recency_R  Frequency_F  Monetary_M  LPAY_USE\n",
       "2      M000136117         12          133    28748531  0.031250\n",
       "5      M000261625         12           72     6075950  0.000000\n",
       "6      M000350564         12           34     9630400  0.000000\n",
       "7      M000419293         12          131     5653101  0.344262\n",
       "8      M000494848         12          654    30430065  0.186508\n",
       "...           ...        ...          ...         ...       ...\n",
       "29857  M999227380         12           71     4796170  0.028169\n",
       "29860  M999340261          3            7     3468000  0.000000\n",
       "29866  M999515910         12          782     7450295  0.000000\n",
       "29867  M999599111         11          122     5661659  0.681416\n",
       "29873  M999962961         12          455    15655434  0.043243\n",
       "\n",
       "[9167 rows x 5 columns]"
      ]
     },
     "execution_count": 15,
     "metadata": {},
     "output_type": "execute_result"
    }
   ],
   "source": [
    "data = rfm[(rfm['Monetary_M']>3000000)]\n",
    "data"
   ]
  },
  {
   "cell_type": "markdown",
   "id": "7363164d",
   "metadata": {},
   "source": [
    "## lpay_use에 대한 기준 찾기"
   ]
  },
  {
   "cell_type": "markdown",
   "id": "f953bb4d",
   "metadata": {},
   "source": [
    "0, 1, 2점으로 나누기<br>\n",
    "0점 = (구매 기록 중)엘페이 아예 안 쓰는 사람 <br>\n",
    "1점 = (구매 기록 중)엘페이 조금 쓰는 사람 <br>\n",
    "2점 = (구매 기록 중)엘페이 많이 쓰는 사람 <br>\n",
    "0점인 사람을 다 빼고 엘페이를 사용했던 사람들을 기준으로 describe해서 기준 잡기 <br>\n",
    "3사분위수 사용 <br>\n",
    "(이유: 엘페이 사용자를 반반으로 나누면 나머지 반이 엘페이를 많이 사용한다고 말할 수 없기 때문 <br>\n",
    "& 시각화 해보았을 때 엘버우 포인트가 3사분위수인 0.24가 적당하다고 판단했다)"
   ]
  },
  {
   "cell_type": "code",
   "execution_count": 16,
   "id": "bc1e32d8",
   "metadata": {},
   "outputs": [
    {
     "data": {
      "text/plain": [
       "count    29874.000000\n",
       "mean         0.052332\n",
       "std          0.132043\n",
       "min          0.000000\n",
       "25%          0.000000\n",
       "50%          0.000000\n",
       "75%          0.024242\n",
       "max          1.000000\n",
       "Name: LPAY_USE, dtype: float64"
      ]
     },
     "execution_count": 16,
     "metadata": {},
     "output_type": "execute_result"
    }
   ],
   "source": [
    "rfm['LPAY_USE'].describe()"
   ]
  },
  {
   "cell_type": "code",
   "execution_count": 17,
   "id": "87d0b564",
   "metadata": {},
   "outputs": [
    {
     "data": {
      "text/html": [
       "<div>\n",
       "<style scoped>\n",
       "    .dataframe tbody tr th:only-of-type {\n",
       "        vertical-align: middle;\n",
       "    }\n",
       "\n",
       "    .dataframe tbody tr th {\n",
       "        vertical-align: top;\n",
       "    }\n",
       "\n",
       "    .dataframe thead th {\n",
       "        text-align: right;\n",
       "    }\n",
       "</style>\n",
       "<table border=\"1\" class=\"dataframe\">\n",
       "  <thead>\n",
       "    <tr style=\"text-align: right;\">\n",
       "      <th></th>\n",
       "      <th>CUST</th>\n",
       "      <th>Recency_R</th>\n",
       "      <th>Frequency_F</th>\n",
       "      <th>Monetary_M</th>\n",
       "      <th>LPAY_USE</th>\n",
       "    </tr>\n",
       "  </thead>\n",
       "  <tbody>\n",
       "    <tr>\n",
       "      <th>2</th>\n",
       "      <td>M000136117</td>\n",
       "      <td>12</td>\n",
       "      <td>133</td>\n",
       "      <td>28748531</td>\n",
       "      <td>0.031250</td>\n",
       "    </tr>\n",
       "    <tr>\n",
       "      <th>7</th>\n",
       "      <td>M000419293</td>\n",
       "      <td>12</td>\n",
       "      <td>131</td>\n",
       "      <td>5653101</td>\n",
       "      <td>0.344262</td>\n",
       "    </tr>\n",
       "    <tr>\n",
       "      <th>8</th>\n",
       "      <td>M000494848</td>\n",
       "      <td>12</td>\n",
       "      <td>654</td>\n",
       "      <td>30430065</td>\n",
       "      <td>0.186508</td>\n",
       "    </tr>\n",
       "    <tr>\n",
       "      <th>12</th>\n",
       "      <td>M000557840</td>\n",
       "      <td>12</td>\n",
       "      <td>392</td>\n",
       "      <td>3761418</td>\n",
       "      <td>0.103542</td>\n",
       "    </tr>\n",
       "    <tr>\n",
       "      <th>20</th>\n",
       "      <td>M000871427</td>\n",
       "      <td>12</td>\n",
       "      <td>131</td>\n",
       "      <td>2322180</td>\n",
       "      <td>0.041322</td>\n",
       "    </tr>\n",
       "    <tr>\n",
       "      <th>...</th>\n",
       "      <td>...</td>\n",
       "      <td>...</td>\n",
       "      <td>...</td>\n",
       "      <td>...</td>\n",
       "      <td>...</td>\n",
       "    </tr>\n",
       "    <tr>\n",
       "      <th>29857</th>\n",
       "      <td>M999227380</td>\n",
       "      <td>12</td>\n",
       "      <td>71</td>\n",
       "      <td>4796170</td>\n",
       "      <td>0.028169</td>\n",
       "    </tr>\n",
       "    <tr>\n",
       "      <th>29859</th>\n",
       "      <td>M999268192</td>\n",
       "      <td>12</td>\n",
       "      <td>56</td>\n",
       "      <td>1827060</td>\n",
       "      <td>0.535714</td>\n",
       "    </tr>\n",
       "    <tr>\n",
       "      <th>29867</th>\n",
       "      <td>M999599111</td>\n",
       "      <td>11</td>\n",
       "      <td>122</td>\n",
       "      <td>5661659</td>\n",
       "      <td>0.681416</td>\n",
       "    </tr>\n",
       "    <tr>\n",
       "      <th>29870</th>\n",
       "      <td>M999770689</td>\n",
       "      <td>12</td>\n",
       "      <td>479</td>\n",
       "      <td>2087570</td>\n",
       "      <td>0.193154</td>\n",
       "    </tr>\n",
       "    <tr>\n",
       "      <th>29873</th>\n",
       "      <td>M999962961</td>\n",
       "      <td>12</td>\n",
       "      <td>455</td>\n",
       "      <td>15655434</td>\n",
       "      <td>0.043243</td>\n",
       "    </tr>\n",
       "  </tbody>\n",
       "</table>\n",
       "<p>8906 rows × 5 columns</p>\n",
       "</div>"
      ],
      "text/plain": [
       "             CUST  Recency_R  Frequency_F  Monetary_M  LPAY_USE\n",
       "2      M000136117         12          133    28748531  0.031250\n",
       "7      M000419293         12          131     5653101  0.344262\n",
       "8      M000494848         12          654    30430065  0.186508\n",
       "12     M000557840         12          392     3761418  0.103542\n",
       "20     M000871427         12          131     2322180  0.041322\n",
       "...           ...        ...          ...         ...       ...\n",
       "29857  M999227380         12           71     4796170  0.028169\n",
       "29859  M999268192         12           56     1827060  0.535714\n",
       "29867  M999599111         11          122     5661659  0.681416\n",
       "29870  M999770689         12          479     2087570  0.193154\n",
       "29873  M999962961         12          455    15655434  0.043243\n",
       "\n",
       "[8906 rows x 5 columns]"
      ]
     },
     "execution_count": 17,
     "metadata": {},
     "output_type": "execute_result"
    }
   ],
   "source": [
    "data = rfm[(rfm['LPAY_USE']>0)]\n",
    "data"
   ]
  },
  {
   "cell_type": "code",
   "execution_count": 18,
   "id": "31b2a8aa",
   "metadata": {},
   "outputs": [
    {
     "data": {
      "text/plain": [
       "count    8906.000000\n",
       "mean        0.175541\n",
       "std         0.191986\n",
       "min         0.000398\n",
       "25%         0.039370\n",
       "50%         0.111111\n",
       "75%         0.249120\n",
       "max         1.000000\n",
       "Name: LPAY_USE, dtype: float64"
      ]
     },
     "execution_count": 18,
     "metadata": {},
     "output_type": "execute_result"
    }
   ],
   "source": [
    "data['LPAY_USE'].describe()"
   ]
  },
  {
   "cell_type": "code",
   "execution_count": 19,
   "id": "99971997",
   "metadata": {},
   "outputs": [
    {
     "data": {
      "text/plain": [
       "<AxesSubplot:xlabel='LPAY_USE', ylabel='Count'>"
      ]
     },
     "execution_count": 19,
     "metadata": {},
     "output_type": "execute_result"
    },
    {
     "data": {
      "image/png": "[encoded data removed]",
      "text/plain": [
       "<Figure size 432x288 with 1 Axes>"
      ]
     },
     "metadata": {
      "needs_background": "light"
     },
     "output_type": "display_data"
    }
   ],
   "source": [
    "sns.histplot(data['LPAY_USE'])"
   ]
  },
  {
   "cell_type": "markdown",
   "id": "d83584a6",
   "metadata": {},
   "source": [
    "## 결론"
   ]
  },
  {
   "cell_type": "markdown",
   "id": "7c75c7ae",
   "metadata": {},
   "source": [
    "그럼 기준은 정해졌는데 <br>\n",
    "Recency_R    >>  12면 1 나머지는 0        <br>\n",
    "Frequency_F  >>  279보다 크면 1 작으면 0  <br>\n",
    "Monetary_M   >>  3000000보다 크면 1 작으면 0  \n",
    "lpay_use     >>  엘페이를 안쓰는 사람 = 0 , 엘페이를 비율이 0.24보다 작은 사람 = 1 , 0.24보다 큰 사람 = 2"
   ]
  },
  {
   "cell_type": "code",
   "execution_count": 20,
   "id": "22198b08",
   "metadata": {},
   "outputs": [],
   "source": [
    "rfm['Recency_R'] = np.where(rfm['Recency_R']==12, 1, 0)\n",
    "rfm['Frequency_F'] = np.where(rfm['Frequency_F']>=212, 1, 0)\n",
    "rfm['Monetary_M'] = np.where(rfm['Monetary_M']>=3000000, 1, 0)\n",
    "rfm['LPAY_USE'] = np.where(rfm['LPAY_USE']== 0 , 0 ,np.where(rfm['LPAY_USE']>=0.24, 2,1))\n",
    "RFML = rfm"
   ]
  },
  {
   "cell_type": "code",
   "execution_count": 21,
   "id": "270de695",
   "metadata": {},
   "outputs": [],
   "source": [
    "import pickle\n",
    "with open(\"RFML.pickle\",\"wb\") as fw:\n",
    "    pickle.dump(RFML, fw)"
   ]
  },
  {
   "cell_type": "code",
   "execution_count": null,
   "id": "83db1fd6",
   "metadata": {},
   "outputs": [],
   "source": []
  }
 ],
 "metadata": {
  "kernelspec": {
   "display_name": "Python 3 (ipykernel)",
   "language": "python",
   "name": "python3"
  },
  "language_info": {
   "codemirror_mode": {
    "name": "ipython",
    "version": 3
   },
   "file_extension": ".py",
   "mimetype": "text/x-python",
   "name": "python",
   "nbconvert_exporter": "python",
   "pygments_lexer": "ipython3",
   "version": "3.8.8"
  },
  "toc": {
   "base_numbering": 1,
   "nav_menu": {},
   "number_sections": true,
   "sideBar": true,
   "skip_h1_title": false,
   "title_cell": "Table of Contents",
   "title_sidebar": "Contents",
   "toc_cell": false,
   "toc_position": {
    "height": "calc(100% - 180px)",
    "left": "10px",
    "top": "150px",
    "width": "188.825px"
   },
   "toc_section_display": true,
   "toc_window_display": true
  },
  "varInspector": {
   "cols": {
    "lenName": 16,
    "lenType": 16,
    "lenVar": 40
   },
   "kernels_config": {
    "python": {
     "delete_cmd_postfix": "",
     "delete_cmd_prefix": "del ",
     "library": "var_list.py",
     "varRefreshCmd": "print(var_dic_list())"
    },
    "r": {
     "delete_cmd_postfix": ") ",
     "delete_cmd_prefix": "rm(",
     "library": "var_list.r",
     "varRefreshCmd": "cat(var_dic_list()) "
    }
   },
   "types_to_exclude": [
    "module",
    "function",
    "builtin_function_or_method",
    "instance",
    "_Feature"
   ],
   "window_display": false
  }
 },
 "nbformat": 4,
 "nbformat_minor": 5
}
